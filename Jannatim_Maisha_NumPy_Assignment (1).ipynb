{
  "cells": [
    {
      "cell_type": "markdown",
      "id": "4f1a4682",
      "metadata": {
        "id": "4f1a4682"
      },
      "source": [
        "## NumPy Assignment\n",
        "These assignments involve common tasks encountered in data analysis, finance, and image processing, where NumPy can be applied to efficiently manipulate and analyze data. They require intermediate knowledge of NumPy functions such as sum, mean, nanmean, std, reshape, and dot product, among others.\n",
        "\n",
        "Remember to consult the NumPy documentation and other resources for detailed explanations of the functions and concepts involved in these assignments."
      ]
    },
    {
      "cell_type": "markdown",
      "id": "27f8c731",
      "metadata": {
        "id": "27f8c731"
      },
      "source": [
        "### Assignment 1: Sales Analysis\n",
        "You are given an array representing the daily sales of a product for a week. Your task is to find the total sales for the week and calculate the average daily sales.\n",
        "\n",
        "**Data:** An array representing the daily sales of a product for a week.\n",
        "\n",
        "```python\n",
        "sales = np.array([50, 45, 55, 60, 48, 52, 58])\n",
        "```"
      ]
    },
    {
      "cell_type": "code",
      "source": [
        "!pip install numpy\n",
        "import numpy as np"
      ],
      "metadata": {
        "colab": {
          "base_uri": "https://localhost:8080/"
        },
        "id": "lonzMkcoX152",
        "outputId": "d3d4081b-9477-421f-973a-ba958803338a"
      },
      "id": "lonzMkcoX152",
      "execution_count": 3,
      "outputs": [
        {
          "output_type": "stream",
          "name": "stdout",
          "text": [
            "Requirement already satisfied: numpy in /usr/local/lib/python3.10/dist-packages (1.23.5)\n"
          ]
        }
      ]
    },
    {
      "cell_type": "code",
      "source": [
        "sales = np.array([50, 45, 55, 60, 48, 52, 58])\n",
        "T=0\n",
        "for i in range(0,sales.size):\n",
        "  T+=sales[i]\n",
        "print(f\"total sales for the week -> {T}\")\n",
        "av=T/sales.size\n",
        "print(f\"average daily sales -> {av}\")\n",
        "\n",
        "\n"
      ],
      "metadata": {
        "colab": {
          "base_uri": "https://localhost:8080/"
        },
        "id": "Nwm1eBjLVhbe",
        "outputId": "510a4a65-c55a-4519-8408-e5b547fea489"
      },
      "id": "Nwm1eBjLVhbe",
      "execution_count": 6,
      "outputs": [
        {
          "output_type": "stream",
          "name": "stdout",
          "text": [
            "total sales for the week -> 368\n",
            "average daily sales -> 52.57142857142857\n"
          ]
        }
      ]
    },
    {
      "cell_type": "markdown",
      "id": "4f39a0ab",
      "metadata": {
        "id": "4f39a0ab"
      },
      "source": [
        "### Assignment 2: Data Cleaning\n",
        "You have a dataset containing customer ratings for various products. However, some ratings are missing **`(NaN values)`**. Your task is to replace all the missing ratings with the mean rating for each product.\n",
        "\n",
        "**Data:** A dataset containing customer ratings for various products with missing values (NaN).\n",
        "\n",
        "```python\n",
        "ratings = np.array([3.5, 4.2, 2.8, np.nan, 3.9, np.nan, 4.5, 3.2, 3.7])\n",
        "```"
      ]
    },
    {
      "cell_type": "code",
      "source": [
        "ratings = np.array([3.5, 4.2, 2.8, np.nan, 3.9, np.nan, 4.5, 3.2, 3.7])\n",
        "t=0\n",
        "#for i in range(0,ratings.size):\n",
        "#  if i!=\"np.nan\":\n",
        "#     av+=i\n",
        "#    t+=1\n",
        "#av=av/t\n",
        "av=np.nanmean(ratings)\n",
        "print(av)\n",
        "for i in range(0,ratings.size):\n",
        "  if np.isnan(ratings[i]):\n",
        "     ratings[i]=av\n",
        "\n",
        "\n",
        "#con=(ratings!=np.nan)\n",
        "#r=np.where(con,ratings,av)\n",
        "print(ratings)\n"
      ],
      "metadata": {
        "colab": {
          "base_uri": "https://localhost:8080/"
        },
        "id": "TU5DKfHcYtSF",
        "outputId": "ed967c37-8b60-4a4d-99b7-f3fc493b9899"
      },
      "id": "TU5DKfHcYtSF",
      "execution_count": 18,
      "outputs": [
        {
          "output_type": "stream",
          "name": "stdout",
          "text": [
            "3.685714285714286\n",
            "[3.5        4.2        2.8        3.68571429 3.9        3.68571429\n",
            " 4.5        3.2        3.7       ]\n"
          ]
        }
      ]
    },
    {
      "cell_type": "markdown",
      "id": "acfff7eb",
      "metadata": {
        "id": "acfff7eb"
      },
      "source": [
        "### Assignment 3: Image Processing\n",
        "You are working on an image processing project and need to apply a grayscale filter to an RGB image. Convert the RGB image into a grayscale image using numpy arrays and the appropriate color channel weights **`(e.g., 0.2989 * Red + 0.5870 * Green + 0.1140 * Blue)`**.\n",
        "\n",
        "**Data:** An RGB image represented as a 3D numpy array with shape **`(height, width, 3)`**, where the third dimension represents the Red, Green, and Blue color channels.\n",
        "\n",
        "```python\n",
        "image = np.array([[[255, 0, 0], [0, 255, 0], [0, 0, 255]],\n",
        "                  [[127, 127, 127], [255, 255, 255], [0, 0, 0]],\n",
        "                  [[100, 200, 50], [150, 75, 200], [25, 125, 75]]], dtype=np.uint8)\n",
        "```\n",
        "\n",
        "**`Output will be:`**\n",
        "```lua\n",
        "[[  76.197  76.197  76.197]\n",
        " [ 166.595 166.595 166.595]\n",
        " [ 148.293 148.293 148.293]]\n",
        " ```"
      ]
    },
    {
      "cell_type": "code",
      "source": [
        "image = np.array([[[255, 0, 0], [0, 255, 0], [0, 0, 255]],\n",
        "                  [[127, 127, 127], [255, 255, 255], [0, 0, 0]],\n",
        "                  [[100, 200, 50], [150, 75, 200], [25, 125, 75]]], dtype=np.uint8)\n",
        "\n",
        "w=np.array([0.2989,0.5870,0.1140])  ########ans vul?#######\n",
        "g=np.dot(image,w)\n",
        "print(g)\n"
      ],
      "metadata": {
        "colab": {
          "base_uri": "https://localhost:8080/"
        },
        "id": "VPdaQsvd2vJR",
        "outputId": "4d08184b-763f-4cef-8d47-24279c0537c1"
      },
      "id": "VPdaQsvd2vJR",
      "execution_count": 48,
      "outputs": [
        {
          "output_type": "stream",
          "name": "stdout",
          "text": [
            "[[ 76.2195 149.685   29.07  ]\n",
            " [126.9873 254.9745   0.    ]\n",
            " [152.99   111.66    89.3975]]\n"
          ]
        }
      ]
    },
    {
      "cell_type": "markdown",
      "id": "5c12e866",
      "metadata": {
        "id": "5c12e866"
      },
      "source": [
        "### Assignment 4: Images Data Manupulation\n",
        "You are given an image of shape **`(1000,667,3)`**. Perform the following task:\n",
        "   - convert the images to a numpy array\n",
        "   - Expand the dimension of image array to **`(1,1000,67,3,1)`**\n",
        "   - Remove all single dimensions from the numpy array     \n",
        "##### Load Image\n",
        "```python\n",
        "from PIL import Image\n",
        "image1 = Image.open(\"images/cat.jpg\")\n",
        "```"
      ]
    },
    {
      "cell_type": "code",
      "source": [
        "from PIL import Image\n",
        "import numpy as np\n",
        "image1 = Image.open(\"/content/cat.jpg\")\n",
        "na=np.array(image1)\n",
        "print(na.shape)\n",
        "#print(na)\n",
        "nae=np.expand_dims(na,axis=(0, 4))\n",
        "print(nae.shape)\n",
        "#print(nae)\n",
        "arr=np.squeeze(nae)\n",
        "#print(arr)\n",
        "print(arr.shape)"
      ],
      "metadata": {
        "colab": {
          "base_uri": "https://localhost:8080/"
        },
        "id": "fEeBdCO64kYN",
        "outputId": "277921df-2f55-4562-95aa-36db8d2e66a2"
      },
      "id": "fEeBdCO64kYN",
      "execution_count": 46,
      "outputs": [
        {
          "output_type": "stream",
          "name": "stdout",
          "text": [
            "(1000, 667, 3)\n",
            "(1, 1000, 667, 3, 1)\n",
            "(1000, 667, 3)\n"
          ]
        }
      ]
    }
  ],
  "metadata": {
    "kernelspec": {
      "display_name": "Python 3 (ipykernel)",
      "language": "python",
      "name": "python3"
    },
    "language_info": {
      "codemirror_mode": {
        "name": "ipython",
        "version": 3
      },
      "file_extension": ".py",
      "mimetype": "text/x-python",
      "name": "python",
      "nbconvert_exporter": "python",
      "pygments_lexer": "ipython3",
      "version": "3.8.16"
    },
    "colab": {
      "provenance": []
    }
  },
  "nbformat": 4,
  "nbformat_minor": 5
}