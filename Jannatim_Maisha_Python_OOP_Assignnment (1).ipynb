{
  "cells": [
    {
      "cell_type": "markdown",
      "id": "d8dbb83c",
      "metadata": {
        "id": "d8dbb83c"
      },
      "source": [
        "### Task 1: Vehicle Inheritance\n",
        "Create a **base class** called Vehicle with attributes **`manufacturer`** and **`model`**. Implement a method **`get_info()`** that returns a string containing the manufacturer and model of the vehicle. Then, create two derived classes(Inherited Classes), **Car and Motorcycle**, that inherit from Vehicle. Each derived class should have an additional attribute and override the **`get_info()`** method to include the new attribute's value. Finally, create instances of both classes and print their information."
      ]
    },
    {
      "cell_type": "code",
      "source": [
        "class vehicle:\n",
        "    def __init__(self,manufacturer,model):\n",
        "      self.manufacturer=manufacturer\n",
        "      self.model=model\n",
        "\n",
        "    def get_info(self):\n",
        "      return f\"manufacturer->{self.manufacturer} and model->{self.model}\"\n",
        "class car(vehicle):\n",
        "    def __init__(self,manufacturer,model,brand):\n",
        "      super().__init__(manufacturer,model)\n",
        "      self.brand=brand\n",
        "\n",
        "    def get_info(self):\n",
        "     # super().get_info()\n",
        "     # return f\"manufacturer->{self.manufacturer} and model->{self.model} and brand->{self.brand}\"\n",
        "     return f\"{super().get_info()} and brand->{self.brand}\"\n",
        "\n",
        "class motorcycle(vehicle):\n",
        "    def __init__(self,manufacturer,model,tire):\n",
        "      super().__init__(manufacturer,model)\n",
        "      self.tire=tire\n",
        "    def get_info(self):\n",
        "      return f\"{super().get_info()} and tire->{self.tire}\"\n",
        "\n",
        "c=car(\"abc\",\"m1\",\"t\")\n",
        "print(c.get_info())\n",
        "mc=motorcycle(\"xyz\",\"m45\",2)\n",
        "print(mc.get_info())"
      ],
      "metadata": {
        "id": "-2mo94jXYTfW",
        "colab": {
          "base_uri": "https://localhost:8080/"
        },
        "outputId": "d226f94a-d0c3-4e71-b366-336c40392839"
      },
      "id": "-2mo94jXYTfW",
      "execution_count": 5,
      "outputs": [
        {
          "output_type": "stream",
          "name": "stdout",
          "text": [
            "manufacturer->abc and model->m1 and brand->t\n",
            "manufacturer->xyz and model->m45 and tire->2\n"
          ]
        }
      ]
    },
    {
      "cell_type": "markdown",
      "id": "198ed4c7",
      "metadata": {
        "id": "198ed4c7"
      },
      "source": [
        "### Task 2: Online Shopping System\n",
        "\n",
        "- Create a class named **`Product`** with attributes like **`name`**, **`price`**, and **`quantity_in_stock`**.\n",
        "<br>\n",
        "\n",
        "- Create a class named **`Cart`** that allows adding and removing products. It should also calculate the total cost of items in the cart.\n",
        "<br>\n",
        "\n",
        "- Implement a class named **`Customer`** with attributes like **`name`**, **`email`**, and a **`cart instance`**.\n",
        "    Allow the customer to add products to their cart, calculate the final cost, and proceed to checkout."
      ]
    },
    {
      "cell_type": "code",
      "source": [
        "class product:\n",
        "    def __init__(self,name,price,quantity_in_stock):\n",
        "      self.name=name\n",
        "      self.price=price\n",
        "      self.quantity_in_stock=quantity_in_stock\n",
        "\n",
        "class cart:\n",
        "    def __init__(self):\n",
        "      self.l=[]\n",
        "\n",
        "    def addp(self,np):\n",
        "     # np=product()\n",
        "      self.l.append(np)\n",
        "      #print(self.l)\n",
        "    def remvp(self,rp):\n",
        "      #np=product()\n",
        "      self.l.remove(rp)\n",
        "     # print(self.l)\n",
        "    def calc(self):\n",
        "      tc=sum(product.price for product in self.l)\n",
        "      return tc\n",
        "\n",
        "class customer:\n",
        "  def __init__(self,name,email):\n",
        "    self.name=name\n",
        "    self.email=email\n",
        "    self.cart_instance=cart()\n",
        "  def add(self,p):\n",
        "    #p=product(\"x\",900,8)\n",
        "    if p.quantity_in_stock>0:\n",
        "      self.cart_instance.addp(p)\n",
        "      p.quantity_in_stock-=1\n",
        "      print(f\"{p.name} added\")\n",
        "    else:\n",
        "      print(f\"stock out!!->{p.name}\")\n",
        "\n",
        "  def remv(self,p):\n",
        "    if p in self.cart_instance.l:\n",
        "      self.cart_instance.remvp(p)\n",
        "      p.quantity_in_stock+=1\n",
        "      print(f\"{p.name} removed\")\n",
        "  def chko(self):\n",
        "    print(f\"total cost {self.cart_instance.calc()}\")\n",
        "    print(\"you can proceed to checkout\")\n",
        "\n",
        "\n",
        "p=product(\"x\",900,8)\n",
        "p1=product(\"y\",100,4)\n",
        "p3=product(\"z\",900,8)\n",
        "cus=customer(\"Poushi\",\"maishapousy@gmail.com\")\n",
        "cus.add(p)\n",
        "cus.add(p1)\n",
        "cus.remv(p1)\n",
        "cus.add(p3)\n",
        "#print(cus.cart_instance.l)\n",
        "cus.chko()\n"
      ],
      "metadata": {
        "id": "I__2Ly7HbSYe",
        "colab": {
          "base_uri": "https://localhost:8080/"
        },
        "outputId": "4e6658bb-ba2f-44fd-a3fc-439ac958d488"
      },
      "id": "I__2Ly7HbSYe",
      "execution_count": 10,
      "outputs": [
        {
          "output_type": "stream",
          "name": "stdout",
          "text": [
            "x added\n",
            "y added\n",
            "y removed\n",
            "z added\n",
            "total cost 1800\n",
            "you can proceed to checkout\n"
          ]
        }
      ]
    },
    {
      "cell_type": "markdown",
      "id": "69cc2298",
      "metadata": {
        "id": "69cc2298"
      },
      "source": [
        "### Task 3: School Grading System\n",
        "\n",
        "- Create a class **`Student`** with attributes like **`name, age, and grades`** (a dictionary of subject grades).\n",
        "<br>\n",
        "\n",
        "- Implement a `method` to calculate the **average grade** for a student.\n",
        "<br>\n",
        "\n",
        "- Create a class **`Course`** with attributes like **`course_name, instructor, and students_enrolled`**.\n",
        "<br>\n",
        "Demonstrate how students can be enrolled in a course, grades can be added, and average grades can be calculated."
      ]
    },
    {
      "cell_type": "code",
      "source": [
        "class student:\n",
        "  def __init__(self,name,age):\n",
        "    self.name=name\n",
        "    self.age=age\n",
        "    self.grades={}\n",
        "  def avg(self):\n",
        "    av=sum(self.grades.values())/len(self.grades)\n",
        "    return av\n",
        "  def gsdd(self,sub,g):\n",
        "    self.grades[sub]=g\n",
        "    print(f\"student->{self.name}\")\n",
        "    print(f\"for {sub},{g} added\")\n",
        "class course:\n",
        "  def __init__(self,course_name, instructor):\n",
        "    self.course_name=course_name\n",
        "    self.instructor=instructor\n",
        "    self.students_enrolled=[]\n",
        "  def enr(self,s):\n",
        "    self.students_enrolled.append(s)\n",
        "    print(f\"{s.name} enrolled in {self.course_name}\")\n",
        "\n",
        "c=course(\"computer network\",\"MD Joy\")\n",
        "c.enr(st)\n",
        "c=course(\"AI\",\"MD shahriar\")\n",
        "c.enr(st)\n",
        "c=course(\"distributed DB\",\"xyz\")\n",
        "c.enr(st)\n",
        "\n",
        "\n",
        "st=student(\"Poushi\",22)\n",
        "st.gsdd(\"AI\",100)\n",
        "st.gsdd(\"distributed DB\",98)\n",
        "st.gsdd(\"computer network\",99)\n",
        "print(f\"avg grade->{st.avg()}\")\n",
        "\n",
        "\n"
      ],
      "metadata": {
        "id": "h_QhDV6pbTIM",
        "colab": {
          "base_uri": "https://localhost:8080/"
        },
        "outputId": "517dbaa6-9e5a-4925-958d-e5cbcff06355"
      },
      "id": "h_QhDV6pbTIM",
      "execution_count": 15,
      "outputs": [
        {
          "output_type": "stream",
          "name": "stdout",
          "text": [
            "Poushi enrolled in computer network\n",
            "Poushi enrolled in AI\n",
            "Poushi enrolled in distributed DB\n",
            "student->Poushi\n",
            "for AI,100 added\n",
            "student->Poushi\n",
            "for distributed DB,98 added\n",
            "student->Poushi\n",
            "for computer network,99 added\n",
            "avg grade->99.0\n"
          ]
        }
      ]
    },
    {
      "cell_type": "markdown",
      "id": "30e74afc",
      "metadata": {
        "id": "30e74afc"
      },
      "source": [
        "### Task 4: Online Banking System\n",
        "\n",
        "- Create a class **`BankAccount`** with attributes like **`account_number, balance, and account_holder`**.\n",
        "<br>\n",
        "\n",
        "- Implement **methods** for depositing, withdrawing, and transferring money between accounts.\n",
        "<br>\n",
        "\n",
        "- Create a **subclass** **`SavingsAccount`** that offers an interest rate and has a limit on withdrawals.\n",
        "<br>\n",
        "\n",
        "Show how a customer can open a bank account, perform transactions, and earn interest on savings."
      ]
    },
    {
      "cell_type": "code",
      "execution_count": 3,
      "id": "47e8b1fe",
      "metadata": {
        "id": "47e8b1fe",
        "colab": {
          "base_uri": "https://localhost:8080/"
        },
        "outputId": "3a5f79f0-7a46-4eab-df06-580a1d651be7"
      },
      "outputs": [
        {
          "output_type": "stream",
          "name": "stdout",
          "text": [
            "the account has 2300000tk after depositing 500000tk\n",
            "the account has 1900000tk after withdrawing 400000tk\n",
            "500000tk transferred from poushi's acc to xyz\n",
            "new balance is 770000.0tk after adding the 70000.0tk interest\n",
            "the account has 720000.0tk after withdrawing 50000tk\n",
            "limit crossed! cannot be withdrew\n"
          ]
        }
      ],
      "source": [
        "class BankAccount:\n",
        "    def __init__(self,account_number,balance,account_holder):\n",
        "        self.account_number=account_number\n",
        "        self.balance=balance\n",
        "        self.account_holder=account_holder\n",
        "    def depos(self,m):\n",
        "        self.balance+=m\n",
        "        print(f\"the account has {self.balance}tk after depositing {m}tk\")\n",
        "    def wd(self,m):\n",
        "        if self.balance>=m:\n",
        "            self.balance-=m\n",
        "            print(f\"the account has {self.balance}tk after withdrawing {m}tk\")\n",
        "        else:\n",
        "            print(\"not enough money!!!\")\n",
        "    def tf(self,acc,m):\n",
        "        if self.balance>=m:\n",
        "            self.balance-=m\n",
        "            acc.balance+=m\n",
        "            print(f\"{m}tk transferred from {self.account_holder} to {acc.account_holder}\")\n",
        "        else:\n",
        "            print(\"not enough money!!!\")\n",
        "\n",
        "class SavingsAccount(BankAccount):\n",
        "    def __init__(self, account_number, balance, account_holder, interest_rate, limit_on_withdrawal):\n",
        "        super().__init__(account_number, balance, account_holder)\n",
        "        self.interest_rate = interest_rate\n",
        "        self.limit_on_withdrawal =limit_on_withdrawal\n",
        "        self.lc=0\n",
        "    def wd(self,m):\n",
        "        if self.lc< self.limit_on_withdrawal:\n",
        "            super().wd(m)\n",
        "            self.lc+=1\n",
        "        else:\n",
        "            print(\"limit crossed! cannot be withdrew\")\n",
        "    def icalc(self):\n",
        "        i= self.balance*(self.interest_rate/100)  #I=P*r*t|||let,t=1\n",
        "        self.balance+=i\n",
        "        print(f\"new balance is {self.balance}tk after adding the {i}tk interest\")\n",
        "\n",
        "acc= BankAccount(1,1800000, \"poushi's acc\")\n",
        "acc.depos(500000)\n",
        "acc.wd(400000)\n",
        "#acc.tf()\n",
        "sacc=SavingsAccount(\"2\",200000,\"xyz\",10,1)\n",
        "acc.tf(sacc,500000)\n",
        "sacc.icalc()\n",
        "sacc.wd(50000)\n",
        "sacc.wd(50000)\n"
      ]
    }
  ],
  "metadata": {
    "kernelspec": {
      "display_name": "Python 3 (ipykernel)",
      "language": "python",
      "name": "python3"
    },
    "language_info": {
      "codemirror_mode": {
        "name": "ipython",
        "version": 3
      },
      "file_extension": ".py",
      "mimetype": "text/x-python",
      "name": "python",
      "nbconvert_exporter": "python",
      "pygments_lexer": "ipython3",
      "version": "3.8.16"
    },
    "colab": {
      "provenance": []
    }
  },
  "nbformat": 4,
  "nbformat_minor": 5
}