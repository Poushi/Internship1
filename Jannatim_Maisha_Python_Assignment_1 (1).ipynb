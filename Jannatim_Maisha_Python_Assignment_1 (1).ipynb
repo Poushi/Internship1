{
  "cells": [
    {
      "cell_type": "markdown",
      "metadata": {
        "id": "sPFJ9ydqFZkW"
      },
      "source": [
        "## Introduction\n",
        "\n",
        "In this assignment, you will encounter various challenges inspired by everyday situations. Each task will require you to utilize fundamental Python concepts to develop practical solutions. Get ready to dive into the world of Python and tackle these real-world scenarios head-on!\n",
        "\n",
        "Python concepts covered in the assignment:\n",
        "\n",
        "**Input/Output:** The use of input() to receive input from the user and print() to display output.\n",
        "\n",
        "**Variables and Data Types:** Utilizing variables to store and manipulate data, including numeric values (integers, floats), strings, and boolean values.\n",
        "\n",
        "**Arithmetic Operators:** Performing mathematical calculations using operators such as addition ``(+)``, subtraction ``(-)``, multiplication ``(*)``, division ``(/)``, and modulo ``(%)``.\n",
        "\n",
        "**Conditional Statements:** Using conditional operators (if, else, elif) to perform different actions based on certain conditions.\n",
        "\n",
        "**String Manipulation:** Manipulating strings, including concatenation (+), string formatting, and string indexing.\n",
        "\n",
        "**Type Conversion:** Converting data between different types, such as converting strings to integers or floats.\n",
        "\n",
        "**Operators:** Using various operators, including comparison operators ``(>, <, ==, !=)``, logical operators ``(and, or, not)``, and assignment operators ``(+=, -=, *=, /=)``."
      ]
    },
    {
      "cell_type": "markdown",
      "metadata": {
        "id": "C7XYONimFZkb"
      },
      "source": [
        "### Scenario 1: Online Store\n",
        "You have been hired as a Python developer for an online store. Your first task is to create a program that calculates the total cost of a customer's order. The program should ask for the price and quantity of each item, calculate the subtotal, apply a discount of 10% if the total is above ``100 BDT``, and display the final amount.\n",
        "\n",
        "**Task 1:** Create a Python program that:\n",
        "\n",
        "- Asks the user for the price and quantity of three items.\n",
        "- Calculates the subtotal by multiplying the price and quantity for each item.\n",
        "- Calculates the total by summing up the subtotals.\n",
        "- Applies a 10% discount if the total is above 100 BDT.\n",
        "- Displays the final amount the customer has to pay.\n",
        "\n",
        "**Input & Output Example**\n",
        "```lua\n",
        "Enter the price of item 1: 20\n",
        "Enter the quantity of item 1: 2\n",
        "Enter the price of item 2: 50\n",
        "Enter the quantity of item 2: 1\n",
        "Enter the price of item 3: 10\n",
        "Enter the quantity of item 3: 2\n",
        "The final amount to be paid by the customer is: 99.00 BDT\n",
        "```"
      ]
    },
    {
      "cell_type": "code",
      "source": [
        "p1=int(input(\"Enter the price of item 1: \"))\n",
        "q1=int(input(\"Enter the quantity of item 1: \"))\n",
        "p2=int(input(\"Enter the price of item 2: \"))\n",
        "q2=int(input(\"Enter the quantity of item 2: \"))\n",
        "p3=int(input(\"Enter the price of item 3: \"))\n",
        "q3=int(input(\"Enter the quantity of item 3: \"))\n",
        "c=p1*q1+p2*q2+p3*q3\n",
        "if c>100:\n",
        "  c=c-(c*(10/100))\n",
        "#print(f\"The final amount to be paid by the customer is: {c} BDT\")\n",
        "print(\"The final amount to be paid by the customer is:\", c ,\"BDT\" )"
      ],
      "metadata": {
        "id": "zYprgJ0bjPi4",
        "colab": {
          "base_uri": "https://localhost:8080/"
        },
        "outputId": "7e799ca3-462f-47a8-e686-2e28503ee34f"
      },
      "execution_count": 9,
      "outputs": [
        {
          "output_type": "stream",
          "name": "stdout",
          "text": [
            "Enter the price of item 1: 20\n",
            "Enter the quantity of item 1: 2\n",
            "Enter the price of item 2: 50\n",
            "Enter the quantity of item 2: 1\n",
            "Enter the price of item 3: 10\n",
            "Enter the quantity of item 3: 2\n",
            "The final amount to be paid by the customer is: 99.0 BDT\n"
          ]
        }
      ]
    },
    {
      "cell_type": "markdown",
      "metadata": {
        "id": "lCi_hUiHFZkc"
      },
      "source": [
        "### Scenario 2: Grade Calculator\n",
        "As a teacher, you need to calculate the final grades for your students based on their scores. Each student's grade is determined by the average of their three test scores. You also need to assign letter grades based on the following scale: 90 or above is an **``\"A,\"``** 80-89 is a **``\"B,\"``** 70-79 is a **``\"C``**,\" and anything below 70 is an **``\"F.\"``**\n",
        "\n",
        "**Task 2:** Create a Python program that:\n",
        "\n",
        "- Asks the user for the test scores of three students.\n",
        "- Calculates the average score for each student.\n",
        "- Assigns a letter grade to each student based on the average score.\n",
        "- Displays the student's average score and corresponding letter grade.\n",
        "\n",
        "**Input & Output Example**\n",
        "```lua\n",
        "Enter the test scores for Student 1\n",
        "Enter score 1: 56\n",
        "Enter score 2: 12\n",
        "Enter score 3: 78\n",
        "Enter the test scores for Student 2\n",
        "Enter score 1: 44\n",
        "Enter score 2: 76\n",
        "Enter score 3: 69\n",
        "Enter the test scores for Student 3\n",
        "Enter score 1: 45\n",
        "Enter score 2: 65\n",
        "Enter score 3: 87\n",
        "Student 1:\n",
        "Average Score: 48.666666666666664\n",
        "Letter Grade: F\n",
        "Student 2:\n",
        "Average Score: 63.0\n",
        "Letter Grade: F\n",
        "Student 3:\n",
        "Average Score: 65.66666666666667\n",
        "Letter Grade: F\n",
        "```"
      ]
    },
    {
      "cell_type": "code",
      "source": [
        "i=1\n",
        "l=[]\n",
        "while i<=3:\n",
        "  print(\"Enter the test scores for Student\" , i )\n",
        "  x=int(input(\"Enter score 1: \"))\n",
        "  y=int(input(\"Enter score 2: \"))\n",
        "  z=int(input(\"Enter score 3: \"))\n",
        "  av=(x+y+z)/3\n",
        "  l.append(av)\n",
        "  i+=1\n",
        "i=1\n",
        "#print(l)\n",
        "it=0\n",
        "while i<=3:\n",
        "  print(\"Student \",i, \":\")\n",
        "  print(\"Average Score: \",l[it])\n",
        " # print(it)\n",
        "  #print(l[it])\n",
        "  if 90<=l[it]:\n",
        "    print(\"Letter Grade: A\" )\n",
        "  elif 80<l[it]<89:\n",
        "    print(\"Letter Grade: B\" )\n",
        "  elif 70<l[it]<79:\n",
        "    print(\"Letter Grade: C\" )\n",
        "  else:\n",
        "    print(\"Letter Grade: F\" )\n",
        "  it+=1\n",
        "  i+=1\n",
        "\n",
        "\n",
        "\n"
      ],
      "metadata": {
        "colab": {
          "base_uri": "https://localhost:8080/"
        },
        "id": "ApWSMTVBqsjU",
        "outputId": "f86f63c6-2685-4cf5-b234-200f74558f8d"
      },
      "execution_count": 23,
      "outputs": [
        {
          "output_type": "stream",
          "name": "stdout",
          "text": [
            "Enter the test scores for Student 1\n",
            "Enter score 1: 56\n",
            "Enter score 2: 12\n",
            "Enter score 3: 78\n",
            "Enter the test scores for Student 2\n",
            "Enter score 1: 44\n",
            "Enter score 2: 76\n",
            "Enter score 3: 69\n",
            "Enter the test scores for Student 3\n",
            "Enter score 1: 45\n",
            "Enter score 2: 65\n",
            "Enter score 3: 87\n",
            "Student  1 :\n",
            "Average Score:  48.666666666666664\n",
            "Letter Grade: F\n",
            "Student  2 :\n",
            "Average Score:  63.0\n",
            "Letter Grade: F\n",
            "Student  3 :\n",
            "Average Score:  65.66666666666667\n",
            "Letter Grade: F\n"
          ]
        }
      ]
    },
    {
      "cell_type": "markdown",
      "metadata": {
        "id": "Ja4tRaiHFZkd"
      },
      "source": [
        "### Scenario 3: Temperature Converter\n",
        "You are building a weather application and need to convert temperature between **``Celsius``** and **``Fahrenheit``**. Users will provide the temperature in one unit, and your program should convert it to the other unit.\n",
        "\n",
        "**Task 3:** Create a Python program that:\n",
        "\n",
        "- Asks the user for the temperature and the unit (Celsius or Fahrenheit).\n",
        "- Converts the temperature to the other unit using the appropriate conversion formulas.\n",
        "- Displays the converted temperature.\n",
        "\n",
        "**Conversion Formulas:**<br>\n",
        "**`Fahrenheit to Celsius: F = (C * 9/5) + 32`**<br>\n",
        "**`Celsius to Fahrenheit: C = (F - 32) * 5/9`**<br>\n",
        "\n",
        "**Input & Output Example:**\n",
        "```lua\n",
        "Enter the temperature: 32\n",
        "Enter the unit (Celsius or Fahrenheit): celsius\n",
        "The converted temperature is: 89.6 Fahrenheit\n",
        "```"
      ]
    },
    {
      "cell_type": "code",
      "source": [
        "t=float(input(\"Enter the temperature: \"))\n",
        "u=input(\"Enter the unit (Celsius or Fahrenheit): \")\n",
        "if u==\"celsius\":\n",
        "   F = (t * 9/5) + 32\n",
        "   print(f\"The converted temperature is: {F} Fahrenheit\")\n",
        "else:\n",
        "   C = (t - 32) * 5/9\n",
        "   print(f\"The converted temperature is: {C} Celsius\")\n",
        "\n"
      ],
      "metadata": {
        "colab": {
          "base_uri": "https://localhost:8080/"
        },
        "id": "RDmtZq5kzxql",
        "outputId": "000ea85b-4f9a-4c58-d103-f32d94b83cb2"
      },
      "execution_count": 25,
      "outputs": [
        {
          "output_type": "stream",
          "name": "stdout",
          "text": [
            "Enter the temperature: 32\n",
            "Enter the unit (Celsius or Fahrenheit): celsius\n",
            "The converted temperature is: 89.6 Fahrenheit\n"
          ]
        }
      ]
    },
    {
      "cell_type": "markdown",
      "metadata": {
        "id": "errJY_JIFZkd"
      },
      "source": [
        "### Scenario 4: Username Validation(Do not use any module)\n",
        "You are creating a registration system for a website and need to validate user usernames. The username must meet the following requirements:\n",
        "\n",
        "- **It must be at least 6 characters long and at most 12 characters long.**\n",
        "- **It must start with a letter (a-z or A-Z).**\n",
        "- **It can only contain letters and numbers.**\n",
        "\n",
        "**Task 5:** Create a Python program that:\n",
        "\n",
        "- Asks the user to enter a username.\n",
        "- Validates the username according to the requirements mentioned above.\n",
        "- Displays whether the username is valid or not based on the validation rules.\n",
        "\n",
        "- Use `valid` username characters are provived below to match valid characters:\n",
        "```python\n",
        "# Check characters\n",
        "valid_chars = \"abcdefghijklmnopqrstuvwxyzABCDEFGHIJKLMNOPQRSTUVWXYZ0123456789\"\n",
        "```\n",
        "\n",
        "**Input & Output Example:**\n",
        "```lua\n",
        "Enter a username: ThisIsNotAvalidUserName\n",
        "The username is not valid.\n",
        "```"
      ]
    },
    {
      "cell_type": "code",
      "source": [
        "un=input(\"Enter a username: \")\n",
        "# Check characters\n",
        "valid_chars = \"abcdefghijklmnopqrstuvwxyzABCDEFGHIJKLMNOPQRSTUVWXYZ0123456789\"\n",
        "dir(un)\n",
        "if 6<=len(un)<=12 and un.isalnum() and all(char in valid_chars for char in un):\n",
        "  print(\"The username is valid.\")\n",
        "else:\n",
        "  print(\"The username is not valid.\")\n",
        "\n"
      ],
      "metadata": {
        "colab": {
          "base_uri": "https://localhost:8080/"
        },
        "id": "KOlZJ-kRztZA",
        "outputId": "5e3b07d5-f25a-450c-cf9e-aa10f1a8163c"
      },
      "execution_count": 29,
      "outputs": [
        {
          "output_type": "stream",
          "name": "stdout",
          "text": [
            "Enter a username: ThisIsNotAvalidUserName\n",
            "The username is not valid.\n"
          ]
        }
      ]
    }
  ],
  "metadata": {
    "kernelspec": {
      "display_name": "Python 3 (ipykernel)",
      "language": "python",
      "name": "python3"
    },
    "language_info": {
      "codemirror_mode": {
        "name": "ipython",
        "version": 3
      },
      "file_extension": ".py",
      "mimetype": "text/x-python",
      "name": "python",
      "nbconvert_exporter": "python",
      "pygments_lexer": "ipython3",
      "version": "3.8.16"
    },
    "colab": {
      "provenance": []
    }
  },
  "nbformat": 4,
  "nbformat_minor": 0
}